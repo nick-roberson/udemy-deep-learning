{
 "cells": [
  {
   "cell_type": "code",
   "execution_count": 1,
   "id": "1990ceb8-3d91-4c99-a630-4ec67b76ee4e",
   "metadata": {},
   "outputs": [],
   "source": [
    "import numpy as np"
   ]
  },
  {
   "cell_type": "code",
   "execution_count": 3,
   "id": "d79bd215-df2e-4d7a-92c5-b17752cfdfd4",
   "metadata": {},
   "outputs": [
    {
     "data": {
      "text/plain": [
       "list"
      ]
     },
     "execution_count": 3,
     "metadata": {},
     "output_type": "execute_result"
    }
   ],
   "source": [
    "my_list = [1, 2, 3]\n",
    "type(my_list)"
   ]
  },
  {
   "cell_type": "code",
   "execution_count": 5,
   "id": "ecc753de-b5d5-4455-8d1b-21ec5329890f",
   "metadata": {},
   "outputs": [
    {
     "data": {
      "text/plain": [
       "numpy.ndarray"
      ]
     },
     "execution_count": 5,
     "metadata": {},
     "output_type": "execute_result"
    }
   ],
   "source": [
    "my_array = np.array(my_list)\n",
    "type(my_array)"
   ]
  },
  {
   "cell_type": "code",
   "execution_count": 7,
   "id": "d3aa9825-38f7-417c-8bda-b7cedc594bb1",
   "metadata": {},
   "outputs": [
    {
     "name": "stdout",
     "output_type": "stream",
     "text": [
      "[[1 2 3]\n",
      " [4 5 6]]\n"
     ]
    }
   ],
   "source": [
    "# create matrix\n",
    "my_list = [[1,2,3], [4,5,6]]\n",
    "my_array = np.array(my_list)\n",
    "print(my_array)"
   ]
  },
  {
   "cell_type": "code",
   "execution_count": 11,
   "id": "830c2dc0-bb7b-4c18-91bb-6933ff9c3b67",
   "metadata": {},
   "outputs": [
    {
     "data": {
      "text/plain": [
       "array([[0., 0., 0., 0., 0., 0., 0., 0., 0., 0.],\n",
       "       [0., 0., 0., 0., 0., 0., 0., 0., 0., 0.],\n",
       "       [0., 0., 0., 0., 0., 0., 0., 0., 0., 0.],\n",
       "       [0., 0., 0., 0., 0., 0., 0., 0., 0., 0.]])"
      ]
     },
     "execution_count": 11,
     "metadata": {},
     "output_type": "execute_result"
    }
   ],
   "source": [
    "# simple (Same as python built in range)\n",
    "np.arange(0, 10)\n",
    "np.arange(0, 10, 2)\n",
    "# Create list of zeros that are floating point\n",
    "np.zeros(10)\n",
    "# Create a matrix of height 4 and length tens\n",
    "np.zeros((4,10))"
   ]
  },
  {
   "cell_type": "code",
   "execution_count": 12,
   "id": "7f16568d-3bf1-4ed0-a6eb-6914fe71bfca",
   "metadata": {},
   "outputs": [
    {
     "data": {
      "text/plain": [
       "array([[101., 101., 101., 101., 101., 101., 101., 101., 101., 101., 101.],\n",
       "       [101., 101., 101., 101., 101., 101., 101., 101., 101., 101., 101.],\n",
       "       [101., 101., 101., 101., 101., 101., 101., 101., 101., 101., 101.],\n",
       "       [101., 101., 101., 101., 101., 101., 101., 101., 101., 101., 101.],\n",
       "       [101., 101., 101., 101., 101., 101., 101., 101., 101., 101., 101.]])"
      ]
     },
     "execution_count": 12,
     "metadata": {},
     "output_type": "execute_result"
    }
   ],
   "source": [
    "# Create a matrix and perform operations to each cell\n",
    "np.ones((5,11)) + 100"
   ]
  },
  {
   "cell_type": "code",
   "execution_count": 16,
   "id": "cec6ec9c-d02a-4bbb-b9b5-c2edf5688720",
   "metadata": {},
   "outputs": [
    {
     "data": {
      "text/plain": [
       "array([ 0.        ,  0.47619048,  0.95238095,  1.42857143,  1.9047619 ,\n",
       "        2.38095238,  2.85714286,  3.33333333,  3.80952381,  4.28571429,\n",
       "        4.76190476,  5.23809524,  5.71428571,  6.19047619,  6.66666667,\n",
       "        7.14285714,  7.61904762,  8.0952381 ,  8.57142857,  9.04761905,\n",
       "        9.52380952, 10.        ])"
      ]
     },
     "execution_count": 16,
     "metadata": {},
     "output_type": "execute_result"
    }
   ],
   "source": [
    "# Get list of numbers between a number range\n",
    "np.linspace(0, 10, 22) # len of 22"
   ]
  },
  {
   "cell_type": "code",
   "execution_count": 17,
   "id": "cb08cbfc-1c88-47a9-b543-47bac3cba3d6",
   "metadata": {},
   "outputs": [
    {
     "data": {
      "text/plain": [
       "array([[1., 0., 0., 0., 0.],\n",
       "       [0., 1., 0., 0., 0.],\n",
       "       [0., 0., 1., 0., 0.],\n",
       "       [0., 0., 0., 1., 0.],\n",
       "       [0., 0., 0., 0., 1.]])"
      ]
     },
     "execution_count": 17,
     "metadata": {},
     "output_type": "execute_result"
    }
   ],
   "source": [
    "# create identity matrix \n",
    "np.eye(5)"
   ]
  },
  {
   "cell_type": "code",
   "execution_count": 18,
   "id": "2b3830c3-2ee8-4234-a5a8-2c143e2be19b",
   "metadata": {},
   "outputs": [
    {
     "data": {
      "text/plain": [
       "array([0.66982391])"
      ]
     },
     "execution_count": 18,
     "metadata": {},
     "output_type": "execute_result"
    }
   ],
   "source": [
    "# create random array \n",
    "np.random.rand(1)"
   ]
  },
  {
   "cell_type": "code",
   "execution_count": 20,
   "id": "9405dc4b-a68e-428f-baff-1515283662ca",
   "metadata": {},
   "outputs": [
    {
     "data": {
      "text/plain": [
       "array([[0.4664321 , 0.58875943, 0.01201768, 0.44460053, 0.2048725 ],\n",
       "       [0.93684204, 0.02898133, 0.9609695 , 0.14069638, 0.13565489],\n",
       "       [0.36149934, 0.90817069, 0.12836349, 0.25436751, 0.28474814],\n",
       "       [0.90681684, 0.18330624, 0.62571871, 0.08676251, 0.85372456],\n",
       "       [0.45005042, 0.8296746 , 0.7697428 , 0.02868629, 0.24273385]])"
      ]
     },
     "execution_count": 20,
     "metadata": {},
     "output_type": "execute_result"
    }
   ],
   "source": [
    "np.random.rand(5,5)"
   ]
  },
  {
   "cell_type": "code",
   "execution_count": 21,
   "id": "00ca3f46-ac55-4a86-972e-472e74af4da2",
   "metadata": {},
   "outputs": [
    {
     "data": {
      "text/plain": [
       "array([ 0.80650578, -0.15622075, -0.18588528,  1.31412039, -0.39656191,\n",
       "        0.47422294, -1.07598873, -1.95711119, -0.19521804, -1.0527718 ])"
      ]
     },
     "execution_count": 21,
     "metadata": {},
     "output_type": "execute_result"
    }
   ],
   "source": [
    "# random normal distribution around 0, 1 stdev\n",
    "np.random.randn(10)"
   ]
  },
  {
   "cell_type": "code",
   "execution_count": 23,
   "id": "4331f979-404c-4de0-9713-64c64e78421e",
   "metadata": {},
   "outputs": [
    {
     "data": {
      "text/plain": [
       "array([27, 56, 54, 34, 22, 49, 65, 16, 58, 18, 65, 86, 31, 52, 56, 63, 92,\n",
       "       32,  2, 65, 83, 86, 49, 78, 59, 31, 35, 81, 82, 26, 28, 75, 76])"
      ]
     },
     "execution_count": 23,
     "metadata": {},
     "output_type": "execute_result"
    }
   ],
   "source": [
    "# random int \n",
    "np.random.randint(1, 100)\n",
    "np.random.randint(1, 100, 33)"
   ]
  },
  {
   "cell_type": "code",
   "execution_count": 24,
   "id": "708998fe-abf7-453d-b325-6e7b3a3f94d9",
   "metadata": {},
   "outputs": [
    {
     "data": {
      "text/plain": [
       "array([0.19151945, 0.62210877, 0.43772774, 0.78535858])"
      ]
     },
     "execution_count": 24,
     "metadata": {},
     "output_type": "execute_result"
    }
   ],
   "source": [
    "# reproduce, set seed so that we can reproduce\n",
    "np.random.seed(1234)\n",
    "np.random.rand(4)"
   ]
  },
  {
   "cell_type": "code",
   "execution_count": 26,
   "id": "c87daaf3-1a2c-4106-a408-54b757b0e699",
   "metadata": {},
   "outputs": [
    {
     "data": {
      "text/plain": [
       "array([0.19151945, 0.62210877, 0.43772774, 0.78535858])"
      ]
     },
     "execution_count": 26,
     "metadata": {},
     "output_type": "execute_result"
    }
   ],
   "source": [
    "# produces the same results \n",
    "np.random.seed(1234)\n",
    "np.random.rand(4)"
   ]
  },
  {
   "cell_type": "code",
   "execution_count": 29,
   "id": "8adcf85e-39c1-4a2b-9c27-0a55b9650fbc",
   "metadata": {},
   "outputs": [
    {
     "data": {
      "text/plain": [
       "array([38,  3, 39, 11,  0, 41, 11, 16,  3,  2])"
      ]
     },
     "execution_count": 29,
     "metadata": {},
     "output_type": "execute_result"
    }
   ],
   "source": [
    "arr = np.arange(25)\n",
    "arr\n",
    "random_arr = np.random.randint(0, 50, 10)\n",
    "random_arr"
   ]
  },
  {
   "cell_type": "code",
   "execution_count": 30,
   "id": "c21cf9b7-991e-4193-bf12-8b9a81609d34",
   "metadata": {},
   "outputs": [
    {
     "data": {
      "text/plain": [
       "41"
      ]
     },
     "execution_count": 30,
     "metadata": {},
     "output_type": "execute_result"
    }
   ],
   "source": [
    "random_arr.max()"
   ]
  },
  {
   "cell_type": "code",
   "execution_count": 31,
   "id": "05b4db71-b9bf-47b3-9043-e67a78ffab06",
   "metadata": {},
   "outputs": [
    {
     "data": {
      "text/plain": [
       "0"
      ]
     },
     "execution_count": 31,
     "metadata": {},
     "output_type": "execute_result"
    }
   ],
   "source": [
    "random_arr.min()"
   ]
  },
  {
   "cell_type": "code",
   "execution_count": 33,
   "id": "844c1cc1-77bf-425d-a3a2-c20bff4cb592",
   "metadata": {},
   "outputs": [
    {
     "data": {
      "text/plain": [
       "4"
      ]
     },
     "execution_count": 33,
     "metadata": {},
     "output_type": "execute_result"
    }
   ],
   "source": [
    "random_arr.argmax() # index of max value \n",
    "random_arr.argmin() # index of min value"
   ]
  },
  {
   "cell_type": "code",
   "execution_count": 38,
   "id": "4f9e7580-a282-459a-89cc-99529059d632",
   "metadata": {},
   "outputs": [
    {
     "data": {
      "text/plain": [
       "array([[ 0,  1,  2,  3,  4],\n",
       "       [ 5,  6,  7,  8,  9],\n",
       "       [10, 11, 12, 13, 14],\n",
       "       [15, 16, 17, 18, 19],\n",
       "       [20, 21, 22, 23, 24]])"
      ]
     },
     "execution_count": 38,
     "metadata": {},
     "output_type": "execute_result"
    }
   ],
   "source": [
    "# reshape into 2d array \n",
    "reshaped = arr.reshape(5, 5)\n",
    "reshaped.argmin()\n",
    "reshaped.argmax()\n",
    "reshaped"
   ]
  },
  {
   "cell_type": "code",
   "execution_count": null,
   "id": "c897eae2-16d4-45e3-a0f5-f934fb7957b3",
   "metadata": {},
   "outputs": [],
   "source": []
  }
 ],
 "metadata": {
  "kernelspec": {
   "display_name": "Python 3 (ipykernel)",
   "language": "python",
   "name": "python3"
  },
  "language_info": {
   "codemirror_mode": {
    "name": "ipython",
    "version": 3
   },
   "file_extension": ".py",
   "mimetype": "text/x-python",
   "name": "python",
   "nbconvert_exporter": "python",
   "pygments_lexer": "ipython3",
   "version": "3.11.7"
  }
 },
 "nbformat": 4,
 "nbformat_minor": 5
}
