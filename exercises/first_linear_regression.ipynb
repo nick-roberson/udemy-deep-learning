{
 "cells": [
  {
   "cell_type": "code",
   "execution_count": 1,
   "id": "07eb5197-c95a-434d-a44c-1d3a4f571014",
   "metadata": {},
   "outputs": [],
   "source": [
    "import torch\n",
    "import numpy as np\n",
    "import matplotlib.pyplot as plt\n",
    "\n",
    "# see inline\n",
    "%matplotlib inline"
   ]
  },
  {
   "cell_type": "code",
   "execution_count": 3,
   "id": "de46b7c9-7428-45b9-a1d7-d6c22d8fc4a8",
   "metadata": {},
   "outputs": [],
   "source": [
    "# for neural network, just saves time writing\n",
    "import torch.nn as nn"
   ]
  },
  {
   "cell_type": "code",
   "execution_count": 6,
   "id": "0d10ea45-c6f2-4c11-8701-f6825481e32b",
   "metadata": {},
   "outputs": [
    {
     "data": {
      "text/plain": [
       "tensor([[ 1.],\n",
       "        [ 2.],\n",
       "        [ 3.],\n",
       "        [ 4.],\n",
       "        [ 5.],\n",
       "        [ 6.],\n",
       "        [ 7.],\n",
       "        [ 8.],\n",
       "        [ 9.],\n",
       "        [10.],\n",
       "        [11.],\n",
       "        [12.],\n",
       "        [13.],\n",
       "        [14.],\n",
       "        [15.],\n",
       "        [16.],\n",
       "        [17.],\n",
       "        [18.],\n",
       "        [19.],\n",
       "        [20.],\n",
       "        [21.],\n",
       "        [22.],\n",
       "        [23.],\n",
       "        [24.],\n",
       "        [25.],\n",
       "        [26.],\n",
       "        [27.],\n",
       "        [28.],\n",
       "        [29.],\n",
       "        [30.],\n",
       "        [31.],\n",
       "        [32.],\n",
       "        [33.],\n",
       "        [34.],\n",
       "        [35.],\n",
       "        [36.],\n",
       "        [37.],\n",
       "        [38.],\n",
       "        [39.],\n",
       "        [40.],\n",
       "        [41.],\n",
       "        [42.],\n",
       "        [43.],\n",
       "        [44.],\n",
       "        [45.],\n",
       "        [46.],\n",
       "        [47.],\n",
       "        [48.],\n",
       "        [49.],\n",
       "        [50.]])"
      ]
     },
     "execution_count": 6,
     "metadata": {},
     "output_type": "execute_result"
    }
   ],
   "source": [
    "# create inputs\n",
    "X = torch.linspace(1, 50, 50).reshape(-1, 1)\n",
    "X"
   ]
  },
  {
   "cell_type": "code",
   "execution_count": 11,
   "id": "7020e0bf-b20f-45d8-a833-7ea445bc657f",
   "metadata": {},
   "outputs": [
    {
     "data": {
      "text/plain": [
       "tensor([[ 2.],\n",
       "        [ 7.],\n",
       "        [ 2.],\n",
       "        [ 6.],\n",
       "        [ 2.],\n",
       "        [-4.],\n",
       "        [ 2.],\n",
       "        [-5.],\n",
       "        [ 4.],\n",
       "        [ 1.],\n",
       "        [ 2.],\n",
       "        [ 3.],\n",
       "        [ 1.],\n",
       "        [-8.],\n",
       "        [ 5.],\n",
       "        [ 5.],\n",
       "        [-6.],\n",
       "        [ 0.],\n",
       "        [-7.],\n",
       "        [-8.],\n",
       "        [-3.],\n",
       "        [-1.],\n",
       "        [ 2.],\n",
       "        [-6.],\n",
       "        [-3.],\n",
       "        [ 3.],\n",
       "        [ 2.],\n",
       "        [ 3.],\n",
       "        [ 4.],\n",
       "        [ 5.],\n",
       "        [ 1.],\n",
       "        [ 7.],\n",
       "        [ 6.],\n",
       "        [-1.],\n",
       "        [-6.],\n",
       "        [-5.],\n",
       "        [-3.],\n",
       "        [ 7.],\n",
       "        [ 0.],\n",
       "        [ 8.],\n",
       "        [-1.],\n",
       "        [-2.],\n",
       "        [ 2.],\n",
       "        [-8.],\n",
       "        [-1.],\n",
       "        [ 6.],\n",
       "        [-8.],\n",
       "        [-3.],\n",
       "        [-7.],\n",
       "        [-2.]])"
      ]
     },
     "execution_count": 11,
     "metadata": {},
     "output_type": "execute_result"
    }
   ],
   "source": [
    "torch.manual_seed(71)\n",
    "e = torch.randint(-8, 9, (50, 1), dtype=torch.float)\n",
    "e"
   ]
  },
  {
   "cell_type": "code",
   "execution_count": 13,
   "id": "1f7498e8-35cb-4e36-a5c8-46376c200b88",
   "metadata": {},
   "outputs": [],
   "source": [
    "# set up formula, add in error terms to set up some noise\n",
    "y = 2 * X + 1 + e"
   ]
  },
  {
   "cell_type": "code",
   "execution_count": 14,
   "id": "afade9eb-52b4-4a8e-b80e-f1ce40236332",
   "metadata": {},
   "outputs": [
    {
     "data": {
      "text/plain": [
       "torch.Size([50, 1])"
      ]
     },
     "execution_count": 14,
     "metadata": {},
     "output_type": "execute_result"
    }
   ],
   "source": [
    "y.shape"
   ]
  },
  {
   "cell_type": "code",
   "execution_count": 17,
   "id": "20bec9eb-6f57-4e62-a4d1-432914740a38",
   "metadata": {},
   "outputs": [
    {
     "data": {
      "text/plain": [
       "<matplotlib.collections.PathCollection at 0x17f85f590>"
      ]
     },
     "execution_count": 17,
     "metadata": {},
     "output_type": "execute_result"
    },
    {
     "data": {
      "image/png": "[encoded data removed]",
      "text/plain": [
       "<Figure size 640x480 with 1 Axes>"
      ]
     },
     "metadata": {},
     "output_type": "display_data"
    }
   ],
   "source": [
    "# plot out x vs y now, convert back to numpy arrays and plot them out\n",
    "plt.scatter(X.numpy(), y.numpy())"
   ]
  },
  {
   "cell_type": "code",
   "execution_count": 18,
   "id": "811292dc-d654-4211-ab1c-01f3ee96350b",
   "metadata": {},
   "outputs": [],
   "source": [
    "# want to use pytorch and set a simple line of best fit here!\n",
    "# y does not have any gradient since it is just a simple linear function"
   ]
  },
  {
   "cell_type": "code",
   "execution_count": 22,
   "id": "1629026e-06cc-4e8e-823a-bb9c2d713879",
   "metadata": {},
   "outputs": [
    {
     "name": "stdout",
     "output_type": "stream",
     "text": [
      "Parameter containing:\n",
      "tensor([[0.1060]], requires_grad=True)\n",
      "Parameter containing:\n",
      "tensor([0.9638], requires_grad=True)\n"
     ]
    }
   ],
   "source": [
    "# set seed same as video\n",
    "torch.manual_seed(59)\n",
    "\n",
    "# takes features in and features out\n",
    "model = nn.Linear(in_features=1, out_features=1)\n",
    "\n",
    "# print out weight and bias\n",
    "print(model.weight)\n",
    "print(model.bias)"
   ]
  },
  {
   "cell_type": "code",
   "execution_count": 62,
   "id": "b1ce3230-ee9a-4aa7-9e38-b0a9324367f5",
   "metadata": {},
   "outputs": [],
   "source": [
    "# set up model class\n",
    "\n",
    "\n",
    "class Model(nn.Module):\n",
    "    def __init__(self, in_features: int, out_features: int):\n",
    "        # Call super class\n",
    "        super().__init__()\n",
    "\n",
    "        # Linear here does not mean linear like a function, this denotes the Layer type in this neural network\n",
    "        self.linear = nn.Linear(in_features=in_features, out_features=out_features)\n",
    "\n",
    "    def forward(self, x):\n",
    "        \"\"\"Returns predicted values for y.\"\"\"\n",
    "        y_pred = self.linear(x)\n",
    "        return y_pred\n",
    "\n",
    "\n",
    "# If we were doing predictions based on a house, in features may include \"price\", \"neighborhood\", ...."
   ]
  },
  {
   "cell_type": "code",
   "execution_count": 63,
   "id": "fa8e10c3-95f9-4c16-b63a-d719f9411b9f",
   "metadata": {},
   "outputs": [
    {
     "name": "stdout",
     "output_type": "stream",
     "text": [
      "Parameter containing:\n",
      "tensor([[0.1060]], requires_grad=True)\n",
      "Parameter containing:\n",
      "tensor([0.9638], requires_grad=True)\n"
     ]
    }
   ],
   "source": [
    "# set seed\n",
    "torch.manual_seed(59)\n",
    "\n",
    "# create model\n",
    "model = Model(in_features=1, out_features=1)\n",
    "\n",
    "print(model.linear.weight)\n",
    "print(model.linear.bias)"
   ]
  },
  {
   "cell_type": "code",
   "execution_count": 64,
   "id": "863609f3-178a-4c01-880e-4b9b4aea38e2",
   "metadata": {},
   "outputs": [
    {
     "name": "stdout",
     "output_type": "stream",
     "text": [
      "linear.weight: 0.10597813129425049\n",
      "linear.bias: 0.9637961387634277\n"
     ]
    }
   ],
   "source": [
    "# iterate over all parameters, we have very few because we are just working with a linear model\n",
    "for name, param in model.named_parameters():\n",
    "    print(f\"{name}: {param.item()}\")"
   ]
  },
  {
   "cell_type": "code",
   "execution_count": 65,
   "id": "f9f75ad8-26b7-40a3-b51e-2116a727c214",
   "metadata": {},
   "outputs": [
    {
     "name": "stdout",
     "output_type": "stream",
     "text": [
      "tensor([1.1758], grad_fn=<ViewBackward0>)\n"
     ]
    }
   ],
   "source": [
    "x = torch.tensor([2.0])\n",
    "print(model.forward(x))"
   ]
  },
  {
   "cell_type": "code",
   "execution_count": 66,
   "id": "21f882c9-16d0-40d1-9457-71b5369dec19",
   "metadata": {},
   "outputs": [],
   "source": [
    "# will print out 1.1758 = 0.10597813129425049 * 2 + 0.9637961387634277"
   ]
  },
  {
   "cell_type": "code",
   "execution_count": 67,
   "id": "33e15fc7-4f1b-47db-bb54-751f31a20bdb",
   "metadata": {},
   "outputs": [
    {
     "name": "stdout",
     "output_type": "stream",
     "text": [
      "[ 0.          1.02040816  2.04081633  3.06122449  4.08163265  5.10204082\n",
      "  6.12244898  7.14285714  8.16326531  9.18367347 10.20408163 11.2244898\n",
      " 12.24489796 13.26530612 14.28571429 15.30612245 16.32653061 17.34693878\n",
      " 18.36734694 19.3877551  20.40816327 21.42857143 22.44897959 23.46938776\n",
      " 24.48979592 25.51020408 26.53061224 27.55102041 28.57142857 29.59183673\n",
      " 30.6122449  31.63265306 32.65306122 33.67346939 34.69387755 35.71428571\n",
      " 36.73469388 37.75510204 38.7755102  39.79591837 40.81632653 41.83673469\n",
      " 42.85714286 43.87755102 44.89795918 45.91836735 46.93877551 47.95918367\n",
      " 48.97959184 50.        ]\n"
     ]
    }
   ],
   "source": [
    "# lets see how it performs off random weight and random bias\n",
    "x1 = np.linspace(0.0, 50.0, 50)\n",
    "print(x1)"
   ]
  },
  {
   "cell_type": "code",
   "execution_count": 68,
   "id": "6bbab0ae-eeae-4114-a09a-66299434734c",
   "metadata": {},
   "outputs": [
    {
     "data": {
      "text/plain": [
       "[<matplotlib.lines.Line2D at 0x285cafad0>]"
      ]
     },
     "execution_count": 68,
     "metadata": {},
     "output_type": "execute_result"
    },
    {
     "data": {
      "image/png": "[encoded data removed]",
      "text/plain": [
       "<Figure size 640x480 with 1 Axes>"
      ]
     },
     "metadata": {},
     "output_type": "display_data"
    }
   ],
   "source": [
    "# based off first initial weight and bias lets see how it performs\n",
    "w1 = 0.10597813129425049\n",
    "b1 = 0.9637961387634277\n",
    "\n",
    "y1 = w1 * x1 + b1\n",
    "\n",
    "plt.scatter(X.numpy(), y.numpy())\n",
    "plt.plot(x1, y1, \"r\")"
   ]
  },
  {
   "cell_type": "code",
   "execution_count": 69,
   "id": "0aa274d6-2b26-4035-af55-2b9e982f6552",
   "metadata": {},
   "outputs": [
    {
     "name": "stdout",
     "output_type": "stream",
     "text": [
      "epoch 1 loss: 3057.216796875 weight: 0.10597813129425049 bias: 0.9637961387634277\n",
      "epoch 2 loss: 1588.5306396484375 weight: 3.334900140762329 bias: 1.0604636669158936\n",
      "epoch 3 loss: 830.2999267578125 weight: 1.014832854270935 bias: 0.9922628402709961\n",
      "epoch 4 loss: 438.8521728515625 weight: 2.6817994117736816 bias: 1.0425218343734741\n",
      "epoch 5 loss: 236.76144409179688 weight: 1.4840213060379028 bias: 1.0076650381088257\n",
      "epoch 6 loss: 132.4291229248047 weight: 2.3446059226989746 bias: 1.0339646339416504\n",
      "epoch 7 loss: 78.56572723388672 weight: 1.7262253761291504 bias: 1.0163217782974243\n",
      "epoch 8 loss: 50.75775909423828 weight: 2.170504093170166 bias: 1.0302516222000122\n",
      "epoch 9 loss: 36.4012336730957 weight: 1.8512457609176636 bias: 1.0214954614639282\n",
      "epoch 10 loss: 28.989229202270508 weight: 2.0806007385253906 bias: 1.029038906097412\n",
      "epoch 11 loss: 25.162382125854492 weight: 1.9157683849334717 bias: 1.0248701572418213\n",
      "epoch 12 loss: 23.186473846435547 weight: 2.034165620803833 bias: 1.0291162729263306\n",
      "epoch 13 loss: 22.166126251220703 weight: 1.9490584135055542 bias: 1.027315616607666\n",
      "epoch 14 loss: 21.639110565185547 weight: 2.010172128677368 bias: 1.0298590660095215\n",
      "epoch 15 loss: 21.366771697998047 weight: 1.9662237167358398 bias: 1.0292805433273315\n",
      "epoch 16 loss: 21.22591781616211 weight: 1.997764229774475 bias: 1.030944585800171\n",
      "epoch 17 loss: 21.15294647216797 weight: 1.9750648736953735 bias: 1.0309966802597046\n",
      "epoch 18 loss: 21.115009307861328 weight: 1.991337537765503 bias: 1.032206416130066\n",
      "epoch 19 loss: 21.095176696777344 weight: 1.9796085357666016 bias: 1.0325838327407837\n",
      "epoch 20 loss: 21.084684371948242 weight: 1.9879988431930542 bias: 1.0335586071014404\n",
      "epoch 21 loss: 21.07901382446289 weight: 1.981933355331421 bias: 1.034103512763977\n",
      "epoch 22 loss: 21.075830459594727 weight: 1.9862544536590576 bias: 1.034956693649292\n",
      "epoch 23 loss: 21.073938369750977 weight: 1.9831126928329468 bias: 1.0355877876281738\n",
      "epoch 24 loss: 21.07270050048828 weight: 1.9853330850601196 bias: 1.0363779067993164\n",
      "epoch 25 loss: 21.071819305419922 weight: 1.9837009906768799 bias: 1.037053108215332\n",
      "epoch 26 loss: 21.07110595703125 weight: 1.9848365783691406 bias: 1.037810206413269\n",
      "epoch 27 loss: 21.070486068725586 weight: 1.9839837551116943 bias: 1.0385079383850098\n",
      "epoch 28 loss: 21.069913864135742 weight: 1.9845597743988037 bias: 1.039247751235962\n",
      "epoch 29 loss: 21.069368362426758 weight: 1.9841090440750122 bias: 1.0399566888809204\n",
      "epoch 30 loss: 21.068838119506836 weight: 1.9843961000442505 bias: 1.0406872034072876\n",
      "epoch 31 loss: 21.068307876586914 weight: 1.984152913093567 bias: 1.0414016246795654\n",
      "epoch 32 loss: 21.067781448364258 weight: 1.9842908382415771 bias: 1.042127013206482\n",
      "epoch 33 loss: 21.0672607421875 weight: 1.9841549396514893 bias: 1.0428439378738403\n",
      "epoch 34 loss: 21.066740036010742 weight: 1.9842157363891602 bias: 1.043566346168518\n",
      "epoch 35 loss: 21.066225051879883 weight: 1.9841355085372925 bias: 1.0442842245101929\n",
      "epoch 36 loss: 21.06570816040039 weight: 1.9841564893722534 bias: 1.0450047254562378\n",
      "epoch 37 loss: 21.065187454223633 weight: 1.9841045141220093 bias: 1.0457227230072021\n",
      "epoch 38 loss: 21.064668655395508 weight: 1.9841052293777466 bias: 1.046441912651062\n",
      "epoch 39 loss: 21.064157485961914 weight: 1.9840680360794067 bias: 1.0471596717834473\n",
      "epoch 40 loss: 21.063636779785156 weight: 1.984058141708374 bias: 1.0478779077529907\n",
      "epoch 41 loss: 21.063125610351562 weight: 1.984028697013855 bias: 1.0485951900482178\n",
      "epoch 42 loss: 21.062606811523438 weight: 1.9840131998062134 bias: 1.0493125915527344\n",
      "epoch 43 loss: 21.062095642089844 weight: 1.98398756980896 bias: 1.0500292778015137\n",
      "epoch 44 loss: 21.06157684326172 weight: 1.9839695692062378 bias: 1.0507458448410034\n",
      "epoch 45 loss: 21.06106948852539 weight: 1.9839458465576172 bias: 1.051461935043335\n",
      "epoch 46 loss: 21.06055450439453 weight: 1.9839262962341309 bias: 1.0521777868270874\n",
      "epoch 47 loss: 21.060043334960938 weight: 1.9839037656784058 bias: 1.0528931617736816\n",
      "epoch 48 loss: 21.059532165527344 weight: 1.9838833808898926 bias: 1.0536082983016968\n",
      "epoch 49 loss: 21.05901336669922 weight: 1.9838614463806152 bias: 1.0543230772018433\n",
      "epoch 50 loss: 21.058509826660156 weight: 1.9838409423828125 bias: 1.055037498474121\n"
     ]
    }
   ],
   "source": [
    "# This looks pretty bad! How can we get this to learn, we set the loss function! Criterion is named because that is\n",
    "# the criteria we are basing performance based on. So that is why that is the name.\n",
    "criterion = nn.MSELoss()\n",
    "\n",
    "# Now we need to set a optimization function, this is where we use stochastic gradient descent, with a learning rate (how much to adjust each\n",
    "# parameter on each iteration). With more complex networks we have to play around with this value a bit more. Here we choose\n",
    "# stochastic gradient descent. `lr` here means learning rate. Bigger means faster but maybe less accurate. Smaller means more accurate but\n",
    "# potentially longer running.\n",
    "optimizer = torch.optim.SGD(model.parameters(), lr=0.001)\n",
    "\n",
    "# Now choose reasonable number of passes and keep track of MSE as we go along\n",
    "epochs = 50\n",
    "losses = []\n",
    "\n",
    "for i in range(50):\n",
    "    i = i + 1\n",
    "\n",
    "    # GET PRED ON FORWARD PASS\n",
    "    y_pred = model.forward(X)\n",
    "\n",
    "    # CALC LOSS\n",
    "    loss = criterion(y_pred, y)\n",
    "\n",
    "    # RECORD ERROR\n",
    "    losses.append(loss)\n",
    "    print(\n",
    "        f\"\"\"epoch {i} loss: {loss.item()} weight: {model.linear.weight.item()} bias: {model.linear.bias.item()}\"\"\"\n",
    "    )\n",
    "\n",
    "    # RESET GRADIENT\n",
    "    optimizer.zero_grad()\n",
    "\n",
    "    # ADJUST WEIGHT AND BIAS\n",
    "    loss.backward()\n",
    "    optimizer.step()"
   ]
  },
  {
   "cell_type": "code",
   "execution_count": 72,
   "id": "d2f6d7b9-176a-44ce-9763-f181771a29df",
   "metadata": {},
   "outputs": [
    {
     "data": {
      "text/plain": [
       "Text(0.5, 0, 'EPOCH')"
      ]
     },
     "execution_count": 72,
     "metadata": {},
     "output_type": "execute_result"
    },
    {
     "data": {
      "image/png": "[encoded data removed]",
      "text/plain": [
       "<Figure size 640x480 with 1 Axes>"
      ]
     },
     "metadata": {},
     "output_type": "display_data"
    }
   ],
   "source": [
    "# LETS PLOT IT OUT\n",
    "losses = [l.detach().numpy() for l in losses]\n",
    "plt.plot(range(epochs), losses)\n",
    "plt.ylabel(\"MSE LOSS\")\n",
    "plt.xlabel(\"EPOCH\")"
   ]
  },
  {
   "cell_type": "code",
   "execution_count": null,
   "id": "b781134c-c522-45c5-b70d-a6a89ff2a685",
   "metadata": {},
   "outputs": [],
   "source": [
    "# looks much better! We are getting more and more accurate predictions over each training step, eventually levelling out."
   ]
  },
  {
   "cell_type": "code",
   "execution_count": 74,
   "id": "31f1609e-70c1-4346-9c7d-1336f4a62659",
   "metadata": {},
   "outputs": [
    {
     "data": {
      "text/plain": [
       "array([  1.98381913,   4.00812436,   6.03242959,   8.05673482,\n",
       "        10.08104005,  12.10534529,  14.12965052,  16.15395575,\n",
       "        18.17826098,  20.20256621,  22.22687144,  24.25117668,\n",
       "        26.27548191,  28.29978714,  30.32409237,  32.3483976 ,\n",
       "        34.37270283,  36.39700807,  38.4213133 ,  40.44561853,\n",
       "        42.46992376,  44.49422899,  46.51853422,  48.54283946,\n",
       "        50.56714469,  52.59144992,  54.61575515,  56.64006038,\n",
       "        58.66436562,  60.68867085,  62.71297608,  64.73728131,\n",
       "        66.76158654,  68.78589177,  70.81019701,  72.83450224,\n",
       "        74.85880747,  76.8831127 ,  78.90741793,  80.93172316,\n",
       "        82.9560284 ,  84.98033363,  87.00463886,  89.02894409,\n",
       "        91.05324932,  93.07755455,  95.10185979,  97.12616502,\n",
       "        99.15047025, 101.17477548])"
      ]
     },
     "execution_count": 74,
     "metadata": {},
     "output_type": "execute_result"
    }
   ],
   "source": [
    "x = np.linspace(0.0, 50.0, 50)\n",
    "current_weight = model.linear.weight.item()\n",
    "current_bias = model.linear.weight.item()\n",
    "\n",
    "predicted_y = current_weight * x + current_bias\n",
    "predicted_y"
   ]
  },
  {
   "cell_type": "code",
   "execution_count": 75,
   "id": "14ebfda9-b9ff-4971-8723-1ca215f4f58d",
   "metadata": {},
   "outputs": [
    {
     "data": {
      "text/plain": [
       "[<matplotlib.lines.Line2D at 0x29cf6fc10>]"
      ]
     },
     "execution_count": 75,
     "metadata": {},
     "output_type": "execute_result"
    },
    {
     "data": {
      "image/png": "[encoded data removed]",
      "text/plain": [
       "<Figure size 640x480 with 1 Axes>"
      ]
     },
     "metadata": {},
     "output_type": "display_data"
    }
   ],
   "source": [
    "plt.scatter(X.numpy(), y.numpy())\n",
    "plt.plot(x, predicted_y, \"r\")"
   ]
  },
  {
   "cell_type": "code",
   "execution_count": null,
   "id": "09366ee5-c37d-485a-86b6-39858f0d91f0",
   "metadata": {},
   "outputs": [],
   "source": []
  }
 ],
 "metadata": {
  "kernelspec": {
   "display_name": "Python 3 (ipykernel)",
   "language": "python",
   "name": "python3"
  },
  "language_info": {
   "codemirror_mode": {
    "name": "ipython",
    "version": 3
   },
   "file_extension": ".py",
   "mimetype": "text/x-python",
   "name": "python",
   "nbconvert_exporter": "python",
   "pygments_lexer": "ipython3",
   "version": "3.11.7"
  }
 },
 "nbformat": 4,
 "nbformat_minor": 5
}
